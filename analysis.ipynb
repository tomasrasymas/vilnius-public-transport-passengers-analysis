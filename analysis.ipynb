{
 "cells": [
  {
   "cell_type": "markdown",
   "metadata": {
    "collapsed": true
   },
   "source": [
    "### Importing libraries"
   ]
  },
  {
   "cell_type": "code",
   "execution_count": 1,
   "metadata": {},
   "outputs": [],
   "source": [
    "import os\n",
    "import pandas as pd"
   ]
  },
  {
   "cell_type": "code",
   "execution_count": 10,
   "metadata": {},
   "outputs": [
    {
     "name": "stdout",
     "output_type": "stream",
     "text": [
      "line                      object\ndirection                 object\nstop_number                int64\npassengers_in              int64\npassengers_out             int64\ndatetime          datetime64[ns]\ndtype: object\n"
     ]
    },
    {
     "name": "stdout",
     "output_type": "stream",
     "text": [
      "       stop_number  passengers_in  passengers_out\ncount   5529409.00     5529409.00      5529409.00\nmean       1994.36           0.15            1.52\nstd        1735.79        1128.17         1702.94\nmin           0.00     -999996.00      -999997.00\n25%         913.00           0.00            0.00\n50%        1918.00           0.00            0.00\n75%        2630.00           2.00            2.00\nmax       65534.00        1231.00      1000013.00\n"
     ]
    }
   ],
   "source": [
    "traffic_dfs = [pd.read_csv(os.path.join('data', f),\n",
    "                           sep=';',\n",
    "                           usecols=['Day',\n",
    "                                    'Time',\n",
    "                                    'Line',\n",
    "                                    'Direction',\n",
    "                                    'Stop name',\n",
    "                                    'Stop number',\n",
    "                                    'Passeng. in',\n",
    "                                    'Passeng. out',\n",
    "                                    'Tickets',\n",
    "                                    'Pass. in [1]',\n",
    "                                    'Pass. out [1]',\n",
    "                                    'Pass. in [2]',\n",
    "                                    'Pass. out [2]',\n",
    "                                    'Pass. in [3]',\n",
    "                                    'Pass. out [3]',\n",
    "                                    'Pass. in [4]',\n",
    "                                    'Pass. out [4]', ],\n",
    "                           encoding='utf-8')\n",
    "               for f in os.listdir('data') if f.endswith('csv') and not f.startswith('stops')]\n",
    "\n",
    "traffic_df = pd.concat(traffic_dfs)\n",
    "traffic_df['Passeng. in'] = traffic_df['Passeng. in'].fillna(0)\n",
    "traffic_df['Passeng. out'] = traffic_df['Passeng. out'].fillna(0)\n",
    "traffic_df['Pass. in [1]'] = traffic_df['Pass. in [1]'].fillna(0)\n",
    "traffic_df['Pass. out [1]'] = traffic_df['Pass. out [1]'].fillna(0)\n",
    "traffic_df['Pass. in [2]'] = traffic_df['Pass. in [2]'].fillna(0)\n",
    "traffic_df['Pass. out [2]'] = traffic_df['Pass. out [2]'].fillna(0)\n",
    "traffic_df['Pass. in [3]'] = traffic_df['Pass. in [3]'].fillna(0)\n",
    "traffic_df['Pass. out [3]'] = traffic_df['Pass. out [3]'].fillna(0)\n",
    "traffic_df['Pass. in [4]'] = traffic_df['Pass. in [4]'].fillna(0)\n",
    "traffic_df['Pass. out [4]'] = traffic_df['Pass. out [4]'].fillna(0)\n",
    "\n",
    "traffic_df['passengers_in'] = traffic_df['Passeng. in'] + \\\n",
    "                              traffic_df['Pass. in [1]'] + \\\n",
    "                              traffic_df['Pass. in [2]'] + \\\n",
    "                              traffic_df['Pass. in [3]'] + \\\n",
    "                              traffic_df['Pass. in [4]']\n",
    "\n",
    "traffic_df['passengers_out'] = traffic_df['Passeng. out'] + \\\n",
    "                              traffic_df['Pass. out [1]'] + \\\n",
    "                              traffic_df['Pass. out [2]'] + \\\n",
    "                              traffic_df['Pass. out [3]'] + \\\n",
    "                              traffic_df['Pass. out [4]']\n",
    "\n",
    "traffic_df['passengers_in'] = traffic_df['passengers_in'].astype('int64')\n",
    "traffic_df['passengers_out'] = traffic_df['passengers_out'].astype('int64')\n",
    "\n",
    "traffic_df['datetime'] = pd.to_datetime(traffic_df['Day'] + ' ' + traffic_df['Time'])\n",
    "\n",
    "traffic_df = traffic_df.drop(['Passeng. in',\n",
    "                              'Passeng. out',\n",
    "                              'Pass. in [1]',\n",
    "                              'Pass. out [1]',\n",
    "                              'Pass. in [2]',\n",
    "                              'Pass. out [2]',\n",
    "                              'Pass. in [3]',\n",
    "                              'Pass. out [3]',\n",
    "                              'Pass. in [4]',\n",
    "                              'Pass. out [4]',\n",
    "                              'Day',\n",
    "                              'Time',\n",
    "                              'Tickets',\n",
    "                              'Stop name'], axis=1)\n",
    "\n",
    "traffic_df = traffic_df.rename(columns={'Direction': 'direction', \n",
    "                                        'Stop number': 'stop_number',\n",
    "                                        'Line': 'line'})\n",
    "\n",
    "pd.options.display.float_format = \"{:.2f}\".format\n",
    "\n",
    "print(traffic_df.dtypes)\n",
    "print(traffic_df.describe())"
   ]
  },
  {
   "cell_type": "code",
   "execution_count": 12,
   "metadata": {},
   "outputs": [
    {
     "name": "stdout",
     "output_type": "stream",
     "text": [
      "       stop_number  passengers_in  passengers_out\ncount   5484429.00     5484429.00      5484429.00\nmean       1998.01           1.56            1.61\nstd        1737.52           2.81            2.92\nmin           0.00           0.00            0.00\n25%         914.00           0.00            0.00\n50%        1921.00           0.00            0.00\n75%        2630.00           2.00            2.00\nmax       65534.00          20.00           20.00\n"
     ]
    }
   ],
   "source": [
    "traffic_df = traffic_df[(traffic_df['passengers_in'] >= 0) & (traffic_df['passengers_in'] <= 20)]\n",
    "traffic_df = traffic_df[(traffic_df['passengers_out'] >= 0) & (traffic_df['passengers_out'] <= 20)]\n",
    "\n",
    "print(traffic_df.describe())"
   ]
  },
  {
   "cell_type": "code",
   "execution_count": null,
   "metadata": {},
   "outputs": [],
   "source": []
  },
  {
   "cell_type": "code",
   "execution_count": 8,
   "metadata": {},
   "outputs": [
    {
     "name": "stdout",
     "output_type": "stream",
     "text": [
      "stop_number      int64\nstop_name       object\nlng            float64\nlat            float64\ndtype: object\n       stop_number     lng     lat\ncount      1408.00 1408.00 1408.00\nmean       2432.26   25.27   54.69\nstd        1409.81    0.08    0.05\nmin         101.00   25.03   54.56\n25%        1317.75   25.22   54.67\n50%        2317.50   25.27   54.69\n75%        3517.25   25.32   54.73\nmax        5300.00   25.46   54.83\n"
     ]
    }
   ],
   "source": [
    "def str_2_int(string, default=None):\n",
    "    try:\n",
    "        return int(string)\n",
    "    except ValueError:\n",
    "        return default\n",
    "\n",
    "\n",
    "stop_df = pd.read_csv(os.path.join('data', 'stops_coordinates.csv'),\n",
    "                      sep=',',\n",
    "                      quotechar='\"')\n",
    "\n",
    "# Stop number field contains strings \"1002a\", \"101b\" and so on. \n",
    "# Those stops where removed, cause they never appeared in traffic data \n",
    "stop_df['Stop number'] = stop_df['Stop number'].apply(str_2_int)\n",
    "stop_df = stop_df[stop_df['Stop number'].notnull()]\n",
    "\n",
    "stop_df['Stop number'] = stop_df['Stop number'].astype('int64')\n",
    "\n",
    "stop_df = stop_df.rename(columns={'Stop number': 'stop_number',\n",
    "                                  'Stop name': 'stop_name',\n",
    "                                  'Lng': 'lng',\n",
    "                                  'Lat': 'lat'})\n",
    "\n",
    "pd.options.display.float_format = \"{:.2f}\".format\n",
    "\n",
    "print(stop_df.dtypes)\n",
    "print(stop_df.describe())"
   ]
  },
  {
   "cell_type": "code",
   "execution_count": null,
   "metadata": {},
   "outputs": [],
   "source": []
  },
  {
   "cell_type": "code",
   "execution_count": 13,
   "metadata": {},
   "outputs": [
    {
     "name": "stdout",
     "output_type": "stream",
     "text": [
      "line                      object\ndirection                 object\nstop_number                int64\npassengers_in              int64\npassengers_out             int64\ndatetime          datetime64[ns]\nstop_name                 object\nlng                      float64\nlat                      float64\ndtype: object\n"
     ]
    },
    {
     "name": "stdout",
     "output_type": "stream",
     "text": [
      "       stop_number  passengers_in  passengers_out        lng        lat\ncount   5197911.00     5197911.00      5197911.00 5197911.00 5197911.00\nmean       2070.52           1.57            1.62      25.27      54.70\nstd        1293.07           2.81            2.91       0.06       0.04\nmin         101.00           0.00            0.00      25.09      54.58\n25%        1020.00           0.00            0.00      25.23      54.68\n50%        2007.00           0.00            0.00      25.27      54.70\n75%        2704.00           2.00            2.00      25.30      54.73\nmax        5206.00          20.00           20.00      25.44      54.82\n"
     ]
    }
   ],
   "source": [
    "df = pd.merge(traffic_df, stop_df, on='stop_number')\n",
    "\n",
    "print(df.dtypes)\n",
    "print(df.describe())"
   ]
  },
  {
   "cell_type": "code",
   "execution_count": null,
   "metadata": {},
   "outputs": [],
   "source": []
  }
 ],
 "metadata": {
  "kernelspec": {
   "display_name": "Python 2",
   "language": "python",
   "name": "python2"
  },
  "language_info": {
   "codemirror_mode": {
    "name": "ipython",
    "version": 2
   },
   "file_extension": ".py",
   "mimetype": "text/x-python",
   "name": "python",
   "nbconvert_exporter": "python",
   "pygments_lexer": "ipython2",
   "version": "2.7.6"
  }
 },
 "nbformat": 4,
 "nbformat_minor": 0
}
